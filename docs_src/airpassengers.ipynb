{
 "cells": [
  {
   "cell_type": "code",
   "execution_count": null,
   "metadata": {},
   "outputs": [],
   "source": [
    "!pip install divina -e"
   ]
  },
  {
   "cell_type": "code",
   "execution_count": null,
   "metadata": {},
   "outputs": [],
   "source": [
    "!divina dataset ../benchmarks/M5/m5small s3://divina-quickstart/m5small -l"
   ]
  },
  {
   "cell_type": "code",
   "execution_count": 1,
   "metadata": {},
   "outputs": [],
   "source": [
    "import dask.dataframe as ddf"
   ]
  },
  {
   "cell_type": "code",
   "execution_count": 3,
   "metadata": {},
   "outputs": [],
   "source": [
    "df = ddf.read_parquet('s3://divina-quickstart/m5small/data')"
   ]
  },
  {
   "cell_type": "code",
   "execution_count": 4,
   "metadata": {},
   "outputs": [
    {
     "data": {
      "text/plain": [
       "Index(['Unnamed: 0', 'id', 'item_id', 'dept_id', 'cat_id', 'store_id',\n",
       "       'state_id', 'day', 'sales'],\n",
       "      dtype='object')"
      ]
     },
     "execution_count": 4,
     "metadata": {},
     "output_type": "execute_result"
    }
   ],
   "source": [
    "df.columns"
   ]
  },
  {
   "cell_type": "code",
   "execution_count": 16,
   "metadata": {},
   "outputs": [
    {
     "data": {
      "text/plain": [
       "'2016-04-24'"
      ]
     },
     "execution_count": 16,
     "metadata": {},
     "output_type": "execute_result"
    }
   ],
   "source": [
    "df.day.max().compute()"
   ]
  },
  {
   "cell_type": "code",
   "execution_count": 17,
   "metadata": {},
   "outputs": [
    {
     "data": {
      "text/plain": [
       "'2011-01-29'"
      ]
     },
     "execution_count": 17,
     "metadata": {},
     "output_type": "execute_result"
    }
   ],
   "source": [
    "df.day.min().compute()"
   ]
  },
  {
   "cell_type": "code",
   "execution_count": null,
   "metadata": {},
   "outputs": [],
   "source": [
    "forecast_def = {\n",
    "        \"forecast_definition\": {\n",
    "            \"time_index\": \"day\",\n",
    "            \"target\": \"sales\",\n",
    "            \"drop_features\": [\"Unnamed: 0\", 'id'],\n",
    "            \"signal_dimensions\": ['item_id', 'store_id'],\n",
    "            \"time_validation_splits\": [\"2012-01-29\", \"2015-01-29\"],\n",
    "            \"forecast_start\": \"2016-01-01\",\n",
    "            \"forecast_end\": \"2019-01-01\",\n",
    "            \"forecast_freq\": 'D',\n",
    "            \"scenarios\": {'b': {'values': [(0, 5)], 'start': \"1970-01-01 00:00:09\", 'end': \"1970-01-01 00:00:14\"}},\n",
    "            \"time_horizons\": (1, 60),\n",
    "            \"dataset_directory\": \"s3://divina-quickstart/m5small\",\n",
    "            \"model\": \"LinearRegression\",\n",
    "        }\n",
    "    }"
   ]
  },
  {
   "cell_type": "code",
   "execution_count": null,
   "metadata": {},
   "outputs": [],
   "source": [
    "with open('forecast_def.json', 'w+') as f:\n",
    "    json.dump(forecast_def, f)"
   ]
  },
  {
   "cell_type": "code",
   "execution_count": 7,
   "metadata": {},
   "outputs": [
    {
     "name": "stdout",
     "output_type": "stream",
     "text": [
      "/usr/local/lib/python3.9/site-packages/dask_cloudprovider/generic/vmcluster.py:14: FutureWarning: serialize_for_cli is deprecated and will be removed in a future release. Please use dask.config.serialize instead.\n",
      "  from distributed.utils import warn_on_duration, serialize_for_cli, cli_keywords\n",
      "Usage: divina forecast [OPTIONS] [WRITE_PATH] VISION_DEF [KEEP_ALIVE]\n",
      "                       [EC2_KEY]\n",
      "\n",
      "  :write_path: s3:// or local path to write results to :forecast_def: path to\n",
      "  vision definition JSON file :keep_alive: flag to keep ec2 instances in dask\n",
      "  cluster alive after completing computation. use for debugging. :ec2_key: aws\n",
      "  ec2 keypair name to provide access to dask cluster for debugging.\n",
      "\n",
      "Options:\n",
      "  -d, --debug  flag to increase verbosity of console output\n",
      "  -l, --local  flag to compute results locally\n",
      "  --help       Show this message and exit.\n"
     ]
    }
   ],
   "source": [
    "!divina forecast s3://divina-quickstart/forecast -l"
   ]
  },
  {
   "cell_type": "code",
   "execution_count": null,
   "metadata": {},
   "outputs": [],
   "source": []
  }
 ],
 "metadata": {
  "kernelspec": {
   "display_name": "Python 3 (ipykernel)",
   "language": "python",
   "name": "python3"
  },
  "language_info": {
   "codemirror_mode": {
    "name": "ipython",
    "version": 3
   },
   "file_extension": ".py",
   "mimetype": "text/x-python",
   "name": "python",
   "nbconvert_exporter": "python",
   "pygments_lexer": "ipython3",
   "version": "3.9.7"
  }
 },
 "nbformat": 4,
 "nbformat_minor": 5
}
